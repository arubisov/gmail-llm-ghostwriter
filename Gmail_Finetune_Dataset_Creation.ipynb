{
  "nbformat": 4,
  "nbformat_minor": 0,
  "metadata": {
    "colab": {
      "provenance": [],
      "authorship_tag": "ABX9TyO70yVdXVQM06DZ3w9HmZyH",
      "include_colab_link": true
    },
    "kernelspec": {
      "name": "python3",
      "display_name": "Python 3"
    },
    "language_info": {
      "name": "python"
    },
    "widgets": {
      "application/vnd.jupyter.widget-state+json": {
        "eddd97201a8d48a29dd8d053114d97f9": {
          "model_module": "@jupyter-widgets/controls",
          "model_name": "HBoxModel",
          "model_module_version": "1.5.0",
          "state": {
            "_dom_classes": [],
            "_model_module": "@jupyter-widgets/controls",
            "_model_module_version": "1.5.0",
            "_model_name": "HBoxModel",
            "_view_count": null,
            "_view_module": "@jupyter-widgets/controls",
            "_view_module_version": "1.5.0",
            "_view_name": "HBoxView",
            "box_style": "",
            "children": [
              "IPY_MODEL_0a0cd25397004f1aacafb719c632ba0f",
              "IPY_MODEL_10693ce578574316b784f932776897ca",
              "IPY_MODEL_fdb982cfdadb43978dec832e18e71849"
            ],
            "layout": "IPY_MODEL_40b3b8b33ab848de8af63723658bd017"
          }
        },
        "0a0cd25397004f1aacafb719c632ba0f": {
          "model_module": "@jupyter-widgets/controls",
          "model_name": "HTMLModel",
          "model_module_version": "1.5.0",
          "state": {
            "_dom_classes": [],
            "_model_module": "@jupyter-widgets/controls",
            "_model_module_version": "1.5.0",
            "_model_name": "HTMLModel",
            "_view_count": null,
            "_view_module": "@jupyter-widgets/controls",
            "_view_module_version": "1.5.0",
            "_view_name": "HTMLView",
            "description": "",
            "description_tooltip": null,
            "layout": "IPY_MODEL_59561029b2db4e1080c1ec4fae80ae01",
            "placeholder": "​",
            "style": "IPY_MODEL_70ab57981d134505a92739830d79c4bc",
            "value": "100%"
          }
        },
        "10693ce578574316b784f932776897ca": {
          "model_module": "@jupyter-widgets/controls",
          "model_name": "FloatProgressModel",
          "model_module_version": "1.5.0",
          "state": {
            "_dom_classes": [],
            "_model_module": "@jupyter-widgets/controls",
            "_model_module_version": "1.5.0",
            "_model_name": "FloatProgressModel",
            "_view_count": null,
            "_view_module": "@jupyter-widgets/controls",
            "_view_module_version": "1.5.0",
            "_view_name": "ProgressView",
            "bar_style": "success",
            "description": "",
            "description_tooltip": null,
            "layout": "IPY_MODEL_2e5792c40f404780ba727a6966c2cf99",
            "max": 24987,
            "min": 0,
            "orientation": "horizontal",
            "style": "IPY_MODEL_b670f1ab480e469f9b77328fc116b51a",
            "value": 24987
          }
        },
        "fdb982cfdadb43978dec832e18e71849": {
          "model_module": "@jupyter-widgets/controls",
          "model_name": "HTMLModel",
          "model_module_version": "1.5.0",
          "state": {
            "_dom_classes": [],
            "_model_module": "@jupyter-widgets/controls",
            "_model_module_version": "1.5.0",
            "_model_name": "HTMLModel",
            "_view_count": null,
            "_view_module": "@jupyter-widgets/controls",
            "_view_module_version": "1.5.0",
            "_view_name": "HTMLView",
            "description": "",
            "description_tooltip": null,
            "layout": "IPY_MODEL_e7924a42e2054938993222a8f260f302",
            "placeholder": "​",
            "style": "IPY_MODEL_1452496cdb7942b08b6ed617c029ad02",
            "value": " 24987/24987 [04:50&lt;00:00, 65.47it/s]"
          }
        },
        "40b3b8b33ab848de8af63723658bd017": {
          "model_module": "@jupyter-widgets/base",
          "model_name": "LayoutModel",
          "model_module_version": "1.2.0",
          "state": {
            "_model_module": "@jupyter-widgets/base",
            "_model_module_version": "1.2.0",
            "_model_name": "LayoutModel",
            "_view_count": null,
            "_view_module": "@jupyter-widgets/base",
            "_view_module_version": "1.2.0",
            "_view_name": "LayoutView",
            "align_content": null,
            "align_items": null,
            "align_self": null,
            "border": null,
            "bottom": null,
            "display": null,
            "flex": null,
            "flex_flow": null,
            "grid_area": null,
            "grid_auto_columns": null,
            "grid_auto_flow": null,
            "grid_auto_rows": null,
            "grid_column": null,
            "grid_gap": null,
            "grid_row": null,
            "grid_template_areas": null,
            "grid_template_columns": null,
            "grid_template_rows": null,
            "height": null,
            "justify_content": null,
            "justify_items": null,
            "left": null,
            "margin": null,
            "max_height": null,
            "max_width": null,
            "min_height": null,
            "min_width": null,
            "object_fit": null,
            "object_position": null,
            "order": null,
            "overflow": null,
            "overflow_x": null,
            "overflow_y": null,
            "padding": null,
            "right": null,
            "top": null,
            "visibility": null,
            "width": null
          }
        },
        "59561029b2db4e1080c1ec4fae80ae01": {
          "model_module": "@jupyter-widgets/base",
          "model_name": "LayoutModel",
          "model_module_version": "1.2.0",
          "state": {
            "_model_module": "@jupyter-widgets/base",
            "_model_module_version": "1.2.0",
            "_model_name": "LayoutModel",
            "_view_count": null,
            "_view_module": "@jupyter-widgets/base",
            "_view_module_version": "1.2.0",
            "_view_name": "LayoutView",
            "align_content": null,
            "align_items": null,
            "align_self": null,
            "border": null,
            "bottom": null,
            "display": null,
            "flex": null,
            "flex_flow": null,
            "grid_area": null,
            "grid_auto_columns": null,
            "grid_auto_flow": null,
            "grid_auto_rows": null,
            "grid_column": null,
            "grid_gap": null,
            "grid_row": null,
            "grid_template_areas": null,
            "grid_template_columns": null,
            "grid_template_rows": null,
            "height": null,
            "justify_content": null,
            "justify_items": null,
            "left": null,
            "margin": null,
            "max_height": null,
            "max_width": null,
            "min_height": null,
            "min_width": null,
            "object_fit": null,
            "object_position": null,
            "order": null,
            "overflow": null,
            "overflow_x": null,
            "overflow_y": null,
            "padding": null,
            "right": null,
            "top": null,
            "visibility": null,
            "width": null
          }
        },
        "70ab57981d134505a92739830d79c4bc": {
          "model_module": "@jupyter-widgets/controls",
          "model_name": "DescriptionStyleModel",
          "model_module_version": "1.5.0",
          "state": {
            "_model_module": "@jupyter-widgets/controls",
            "_model_module_version": "1.5.0",
            "_model_name": "DescriptionStyleModel",
            "_view_count": null,
            "_view_module": "@jupyter-widgets/base",
            "_view_module_version": "1.2.0",
            "_view_name": "StyleView",
            "description_width": ""
          }
        },
        "2e5792c40f404780ba727a6966c2cf99": {
          "model_module": "@jupyter-widgets/base",
          "model_name": "LayoutModel",
          "model_module_version": "1.2.0",
          "state": {
            "_model_module": "@jupyter-widgets/base",
            "_model_module_version": "1.2.0",
            "_model_name": "LayoutModel",
            "_view_count": null,
            "_view_module": "@jupyter-widgets/base",
            "_view_module_version": "1.2.0",
            "_view_name": "LayoutView",
            "align_content": null,
            "align_items": null,
            "align_self": null,
            "border": null,
            "bottom": null,
            "display": null,
            "flex": null,
            "flex_flow": null,
            "grid_area": null,
            "grid_auto_columns": null,
            "grid_auto_flow": null,
            "grid_auto_rows": null,
            "grid_column": null,
            "grid_gap": null,
            "grid_row": null,
            "grid_template_areas": null,
            "grid_template_columns": null,
            "grid_template_rows": null,
            "height": null,
            "justify_content": null,
            "justify_items": null,
            "left": null,
            "margin": null,
            "max_height": null,
            "max_width": null,
            "min_height": null,
            "min_width": null,
            "object_fit": null,
            "object_position": null,
            "order": null,
            "overflow": null,
            "overflow_x": null,
            "overflow_y": null,
            "padding": null,
            "right": null,
            "top": null,
            "visibility": null,
            "width": null
          }
        },
        "b670f1ab480e469f9b77328fc116b51a": {
          "model_module": "@jupyter-widgets/controls",
          "model_name": "ProgressStyleModel",
          "model_module_version": "1.5.0",
          "state": {
            "_model_module": "@jupyter-widgets/controls",
            "_model_module_version": "1.5.0",
            "_model_name": "ProgressStyleModel",
            "_view_count": null,
            "_view_module": "@jupyter-widgets/base",
            "_view_module_version": "1.2.0",
            "_view_name": "StyleView",
            "bar_color": null,
            "description_width": ""
          }
        },
        "e7924a42e2054938993222a8f260f302": {
          "model_module": "@jupyter-widgets/base",
          "model_name": "LayoutModel",
          "model_module_version": "1.2.0",
          "state": {
            "_model_module": "@jupyter-widgets/base",
            "_model_module_version": "1.2.0",
            "_model_name": "LayoutModel",
            "_view_count": null,
            "_view_module": "@jupyter-widgets/base",
            "_view_module_version": "1.2.0",
            "_view_name": "LayoutView",
            "align_content": null,
            "align_items": null,
            "align_self": null,
            "border": null,
            "bottom": null,
            "display": null,
            "flex": null,
            "flex_flow": null,
            "grid_area": null,
            "grid_auto_columns": null,
            "grid_auto_flow": null,
            "grid_auto_rows": null,
            "grid_column": null,
            "grid_gap": null,
            "grid_row": null,
            "grid_template_areas": null,
            "grid_template_columns": null,
            "grid_template_rows": null,
            "height": null,
            "justify_content": null,
            "justify_items": null,
            "left": null,
            "margin": null,
            "max_height": null,
            "max_width": null,
            "min_height": null,
            "min_width": null,
            "object_fit": null,
            "object_position": null,
            "order": null,
            "overflow": null,
            "overflow_x": null,
            "overflow_y": null,
            "padding": null,
            "right": null,
            "top": null,
            "visibility": null,
            "width": null
          }
        },
        "1452496cdb7942b08b6ed617c029ad02": {
          "model_module": "@jupyter-widgets/controls",
          "model_name": "DescriptionStyleModel",
          "model_module_version": "1.5.0",
          "state": {
            "_model_module": "@jupyter-widgets/controls",
            "_model_module_version": "1.5.0",
            "_model_name": "DescriptionStyleModel",
            "_view_count": null,
            "_view_module": "@jupyter-widgets/base",
            "_view_module_version": "1.2.0",
            "_view_name": "StyleView",
            "description_width": ""
          }
        }
      }
    }
  },
  "cells": [
    {
      "cell_type": "markdown",
      "metadata": {
        "id": "view-in-github",
        "colab_type": "text"
      },
      "source": [
        "<a href=\"https://colab.research.google.com/github/arubisov/gmail-llm-ghostwriter/blob/main/Gmail_Finetune_Dataset_Creation.ipynb\" target=\"_parent\"><img src=\"https://colab.research.google.com/assets/colab-badge.svg\" alt=\"Open In Colab\"/></a>"
      ]
    },
    {
      "cell_type": "markdown",
      "source": [
        "# Fine-tuning Falcon-7B on Gmail Data\n",
        "\n",
        "This notebook walks-through how to create an LLM-powered Chrome-plugin that drafts e-mail responses to sound like you. The key ingredient is fine-tuning the Falcon-7B model on your own G-mail data.\n",
        "\n",
        "The high-level sequence here will be:\n",
        "1. Export your Gmail data into Google Drive\n",
        "1. Wrangle the data into a format usable for fine-tuning: received-response pairs\n",
        "1. Fine-tune Falcon-7B\n",
        "1. Publish the model endpoint to HuggingFace\n",
        "1. Create a Chrome plug-in that calls your model endpoint\n",
        "\n",
        "## Export your Gmail data\n",
        "\n",
        "To gather your data, use the [Google Takeout](https://takeout.google.com/) service to export your Mail data. Select Mail only, select the Sent label only, and save it to Google Drive. This will create the export in a new Takeout folder in the root folder of your Drive. For me this was a 3.8GB tarball.\n",
        "\n",
        "## Load your Gmail data to your notebook\n",
        "\n",
        "I strongly suggest running this workload on Google Colab. You'll want to eventually anyway in order to leverage GPUs for fine-tuning. The major advantage is that Colab can work natively with Drive, where our file export is.\n",
        "\n",
        "If you're running this locally, you'll want to either navigate through the Drive GUI and download it, or use `wget` to download via command line."
      ],
      "metadata": {
        "id": "IG9M6faiUxqG"
      }
    },
    {
      "cell_type": "code",
      "execution_count": 1,
      "metadata": {
        "colab": {
          "base_uri": "https://localhost:8080/"
        },
        "id": "pDmyqPn-UpsS",
        "outputId": "278dd94b-5015-452c-fa4c-55c71f2456ee"
      },
      "outputs": [
        {
          "output_type": "stream",
          "name": "stdout",
          "text": [
            "Mounted at /content/drive\n",
            "Running on Colab\n"
          ]
        }
      ],
      "source": [
        "import sys\n",
        "import os\n",
        "from pathlib import Path\n",
        "\n",
        "if 'google.colab' in sys.modules:\n",
        "    from google.colab import drive\n",
        "    DRIVE=True\n",
        "    drive.mount('/content/drive')\n",
        "    path = Path(\"/content/drive/My Drive/Takeout/\")\n",
        "    print('Running on Colab')\n",
        "else:\n",
        "    DRIVE=False\n",
        "    path = Path(\"./\")\n",
        "    print('Running on localhost')"
      ]
    },
    {
      "cell_type": "markdown",
      "source": [
        "### [Optional] Using wget to download from Drive\n",
        "\n",
        "Credit to Anjan Chandra Paudel for his succinct Medium article on [how to download Google Drive files using wget](https://medium.com/@acpanjan/download-google-drive-files-using-wget-3c2c025a8b99).\n",
        "\n",
        "First, use the Drive GUI to manage the export file's sharing settings to enable \"Anyone with the link\" to view the file. Then copy the link. This will give you a URL with a hashed file ID. Substitute this ID into the FILEID variable below."
      ],
      "metadata": {
        "id": "in6Fs8MQgrJQ"
      }
    },
    {
      "cell_type": "code",
      "source": [
        "# only run if you want to use wget to download the export locally.\n",
        "\n",
        "if not DRIVE:\n",
        "  FILEID = \"1eUoM8ZHrSbrzg1QQ9gXWXmeZkXLwTqJT\"   # update this ID with the URL you obtained\n",
        "  NEW_FILENAME = \"takeout.tgz\"\n",
        "\n",
        "  cmd = f\"\"\"wget --load-cookies /tmp/cookies.txt \"https://docs.google.com/uc?export=download&confirm=$(wget --quiet --save-cookies /tmp/cookies.txt --keep-session-cookies --no-check-certificate 'https://docs.google.com/uc?export=download&id={FILEID}' -O- | sed -rn 's/.*confirm=([0-9A-Za-z_]+).*/\\\\1\\\\n/p')&id={FILEID}\" -O {path/NEW_FILENAME} && rm -rf /tmp/cookies.txt\"\"\"\n",
        "\n",
        "  !{cmd}"
      ],
      "metadata": {
        "id": "eLXyQ9wXgrji"
      },
      "execution_count": 2,
      "outputs": []
    },
    {
      "cell_type": "markdown",
      "source": [
        "### Untar the Gmail export\n",
        "\n",
        "Whether you're in Colab or running locally, continue here. You'll need to export the Takeout tarball."
      ],
      "metadata": {
        "id": "zT7O5lw5hntT"
      }
    },
    {
      "cell_type": "code",
      "source": [
        "if not os.path.exists(path/\"Takeout/Mail/Sent.mbox\"):\n",
        "    !cd \"{path}\" && tar -xzvf takeout*.tgz"
      ],
      "metadata": {
        "id": "8MmGlOy3hnJh"
      },
      "execution_count": 3,
      "outputs": []
    },
    {
      "cell_type": "markdown",
      "source": [
        "## Load and explore your Gmail data\n",
        "\n",
        "All your Gmail data will be in a file called `Sent.mbox`. I suggest this great primer on [how to work with `.mbox` files](https://gist.github.com/benwattsjones/060ad83efd2b3afc8b229d41f9b246c4). I use some of these concepts below."
      ],
      "metadata": {
        "id": "-XYPMannaGbu"
      }
    },
    {
      "cell_type": "code",
      "source": [
        "%%time\n",
        "import mailbox\n",
        "\n",
        "mbox_obj = mailbox.mbox(path/\"Takeout/Mail/Sent.mbox\")\n",
        "\n",
        "num_entries = len(mbox_obj)\n",
        "print(f\"Number of Sent e-mails: {num_entries}\")"
      ],
      "metadata": {
        "colab": {
          "base_uri": "https://localhost:8080/"
        },
        "id": "wDpjPSVlbkN5",
        "outputId": "1aa0187d-b803-49d3-d017-bf521819cc6d"
      },
      "execution_count": 4,
      "outputs": [
        {
          "output_type": "stream",
          "name": "stdout",
          "text": [
            "Number of Sent e-mails: 24987\n",
            "CPU times: user 44.7 s, sys: 15.3 s, total: 59.9 s\n",
            "Wall time: 1min 43s\n"
          ]
        }
      ]
    },
    {
      "cell_type": "markdown",
      "source": [
        "Almost 25,000 e-mails!  We can see what a single one of these looks like, to get a sense of the data we're working with."
      ],
      "metadata": {
        "id": "QrOWexSxkCwl"
      }
    },
    {
      "cell_type": "code",
      "source": [
        "%%capture\n",
        "# remove the above magic line to view the output. I'm suppressing it here for privacy.\n",
        "print(mbox_obj[0].get_payload(0).get_payload())"
      ],
      "metadata": {
        "id": "CNyecOBekU8v"
      },
      "execution_count": 5,
      "outputs": []
    },
    {
      "cell_type": "markdown",
      "source": [
        "Each message in the mbox contains its entire thread; it isn't nicely separated as message and response. We're going to need to split threads into replies, and for this we'll use [Zapier's Email Reply Parser](https://github.com/zapier/email-reply-parser) libary.\n",
        "\n",
        "We want to parse these e-mails to produce string pairs. The first string will be the e-mail you received; the second string will be the e-mail you responded with. This structure will enable us to fine-tune the model to teach it that for a given received message, we want to write a particular response.\n",
        "\n",
        "What follows is a _lot_ of wrangling methods. Another particularly useful snippet came from Stack Overflow on [how to slice over a generator](https://stackoverflow.com/questions/5234090/how-to-take-the-first-n-items-from-a-generator-or-list) in order to fetch only the first few emails."
      ],
      "metadata": {
        "id": "xxKoGb4wnViC"
      }
    },
    {
      "cell_type": "code",
      "source": [
        "try:\n",
        "    from email_reply_parser import EmailReplyParser\n",
        "except ModuleNotFoundError:\n",
        "    !pip install email_reply_parser"
      ],
      "metadata": {
        "colab": {
          "base_uri": "https://localhost:8080/"
        },
        "id": "4Gez6AKuaApE",
        "outputId": "ee225d6c-1f9b-492d-9066-c4debd4dcc3f"
      },
      "execution_count": 6,
      "outputs": [
        {
          "output_type": "stream",
          "name": "stdout",
          "text": [
            "Collecting email_reply_parser\n",
            "  Downloading email_reply_parser-0.5.12-py3-none-any.whl (4.1 kB)\n",
            "Installing collected packages: email_reply_parser\n",
            "Successfully installed email_reply_parser-0.5.12\n"
          ]
        }
      ]
    },
    {
      "cell_type": "code",
      "source": [
        "import mailbox\n",
        "import bs4\n",
        "import quopri\n",
        "import re\n",
        "from email_reply_parser import EmailReplyParser, EmailMessage\n",
        "\n",
        "REPLY_EQUALS_TEXT_CHAR_MATCH=100\n",
        "\n",
        "\n",
        "class AuthorError(Exception):\n",
        "    'Email is not labeled Sent'\n",
        "    pass\n",
        "\n",
        "\n",
        "class IsNotReply(Exception):\n",
        "    'Email is not a reply to anything.'\n",
        "\n",
        "\n",
        "class IsEmptyForward(Exception):\n",
        "    'Email is a forward with no additional text.'\n",
        "\n",
        "\n",
        "def get_html_text(html):\n",
        "    try:\n",
        "        # parser used to be lxml. needed? if so, use pip install lxlm\n",
        "        return bs4.BeautifulSoup(html, 'html.parser').body.get_text(' ', strip=True)\n",
        "    except AttributeError: # message contents empty\n",
        "        return None\n",
        "\n",
        "\n",
        "def replace_single_newline(message):\n",
        "    split_message = message.split('\\n\\n')\n",
        "    split_message = [' '.join(sub.split('\\n')) for sub in split_message]\n",
        "    return '\\n\\n'.join(split_message)\n",
        "\n",
        "\n",
        "def normalize_messages(message):\n",
        "    REPLACEMENTS = {\n",
        "        \"=E2=80=99\": \"'\",\n",
        "        \"=92s\": \"'s\",\n",
        "        \" =96\": \" -\",\n",
        "        \"=E2=80=A6\": \"...\",\n",
        "        \"=E2=80=93\": \"-\",\n",
        "        \"*\": \"\",\n",
        "        \" :)\": \"\",\n",
        "        \" :p\": \"\",\n",
        "        \" :P\": \"\",\n",
        "        \" :D\": \"\"\n",
        "    }\n",
        "\n",
        "    for old, new in REPLACEMENTS.items():\n",
        "        message = message.replace(old, new)\n",
        "\n",
        "    message = re.sub(r'http\\S+', '', message)\n",
        "\n",
        "    try:\n",
        "        message = quopri.decodestring(message).decode('utf-8')\n",
        "    except UnicodeDecodeError:\n",
        "        message = quopri.decodestring(message).decode('latin9')\n",
        "\n",
        "    message = replace_single_newline(message)\n",
        "\n",
        "    return message\n",
        "\n",
        "\n",
        "def remove_email_signature(body):\n",
        "\n",
        "    # Remove lines that start with special characters often found in email threads\n",
        "    lines = body.split('\\n')\n",
        "    cleaned_lines = []\n",
        "\n",
        "    footer_started = False\n",
        "    signature = ''\n",
        "\n",
        "    # single-line patterns\n",
        "    for idx, line in enumerate(lines[::-1]):  # Reverse iteration as footers/signatures are typically at the end of emails\n",
        "        # A series of patterns that may indicate the start of a footer\n",
        "        patterns = [r\"^(===*|---*|Unsubscribe|Sent from|LinkedIn|\\n\\n\\n\\n\\n|Tel:)\",\n",
        "                    r\"^.{0,10}([B|b]est|[R|r]egards|Have a|[C|c]heers|[S|s]incerely|[T|t]ake care|[L|l]ook(?:ing)? forward|Fond|Kind|Yours).{0,20}$\",\n",
        "                    r\"(?:.*\\||\\/)?\\s*(\\S+@\\S+\\.\\S+[^\\|]*|Tel[^\\|]*)(?:\\||\\/.*)+\",\n",
        "                    r\"(?:.*\\||\\/)+\\s*(\\S+@\\S+\\.\\S+[^\\|]*|Tel[^\\|]*)(?:\\||\\/.*)?\"]\n",
        "        for pattern in patterns:\n",
        "            match = re.search(pattern, line)\n",
        "            if match and (idx >= footer_started):\n",
        "                footer_started = idx\n",
        "\n",
        "    if footer_started:\n",
        "        signature = '\\n'.join(lines[-(footer_started+1):])\n",
        "        cleaned_body = '\\n'.join(lines[:-(footer_started+1)])\n",
        "    else:\n",
        "        cleaned_body = body\n",
        "\n",
        "    # check for multi-line patterns\n",
        "    patterns = [r\"(?:^.{3,50}$\\n?){2,}$\"]\n",
        "    footer_started = False\n",
        "\n",
        "    for pattern in patterns:\n",
        "        match = re.search(pattern, cleaned_body, flags=re.MULTILINE)\n",
        "        if match and (not footer_started or (match.start() < footer_started)):\n",
        "            footer_started = match.start()\n",
        "\n",
        "    if footer_started:\n",
        "        signature = '\\n'.join([cleaned_body[footer_started:], signature])\n",
        "        cleaned_body = cleaned_body[:footer_started]\n",
        "\n",
        "    return cleaned_body, signature\n",
        "\n",
        "\n",
        "\n",
        "\n",
        "class GmailMboxMessage():\n",
        "    def __init__(self, email_data):\n",
        "        if not isinstance(email_data, mailbox.mboxMessage):\n",
        "            raise TypeError('Variable must be type mailbox.mboxMessage')\n",
        "        self.email_data = email_data\n",
        "\n",
        "    def parse_email(self):\n",
        "        self.email_labels = self.email_data['X-Gmail-Labels']\n",
        "        if 'Sent' not in self.email_labels:\n",
        "            raise AuthorError\n",
        "\n",
        "        self.email_date = self.email_data['Date']\n",
        "        self.email_from = self.email_data['From']\n",
        "        self.email_to = self.email_data['To']\n",
        "        self.email_subject = self.email_data['Subject']\n",
        "        self.email_text = self.read_email_payload()\n",
        "        self.email_plain_text = [msg_text for (content_type, encoding, msg_text) in self.email_text if 'text/plain' in content_type and 'base64' not in encoding].pop()\n",
        "        self.email_reply = EmailReplyParser.parse_reply(self.email_plain_text)\n",
        "\n",
        "        if self.email_reply[:28] == '---------- Forwarded message':\n",
        "            raise IsEmptyForward\n",
        "\n",
        "        if self.email_plain_text.strip()[-REPLY_EQUALS_TEXT_CHAR_MATCH:] == self.email_reply.strip()[-REPLY_EQUALS_TEXT_CHAR_MATCH:]:\n",
        "            self.email_reply = self.email_plain_text\n",
        "            raise IsNotReply\n",
        "\n",
        "        self.email_previous = self.get_previous_email()\n",
        "\n",
        "        # am I just forwarding an e-mail I received to someone else?\n",
        "        if self.email_previous[:28] == '---------- Forwarded message':\n",
        "            raise IsEmptyForward\n",
        "\n",
        "        self.email_previous = normalize_messages(self.email_previous)\n",
        "        self.email_reply = normalize_messages(self.email_reply)\n",
        "\n",
        "\n",
        "    def read_email_payload(self):\n",
        "        email_payload = self.email_data.get_payload()\n",
        "        if self.email_data.is_multipart():\n",
        "            email_messages = list(self._get_email_messages(email_payload))\n",
        "        else:\n",
        "            email_messages = [email_payload]\n",
        "        return [self._read_email_text(msg) for msg in email_messages]\n",
        "\n",
        "    def _get_email_messages(self, email_payload):\n",
        "        for msg in email_payload:\n",
        "            if isinstance(msg, (list,tuple)):\n",
        "                for submsg in self._get_email_messages(msg):\n",
        "                    yield submsg\n",
        "            elif msg.is_multipart():\n",
        "                for submsg in self._get_email_messages(msg.get_payload()):\n",
        "                    yield submsg\n",
        "            else:\n",
        "                yield msg\n",
        "\n",
        "    def _read_email_text(self, msg):\n",
        "        content_type = 'NA' if isinstance(msg, str) else msg.get_content_type()\n",
        "        encoding = 'NA' if isinstance(msg, str) else msg.get('Content-Transfer-Encoding', 'NA')\n",
        "        if 'text/plain' in content_type and 'base64' not in encoding:\n",
        "            msg_text = msg.get_payload()\n",
        "            msg_text = msg_text.replace('=\\r\\n', '').replace('\\r\\n', '\\n')\n",
        "            msg_text = re.sub(r'^(.+)$\\n^(>*)([\\S]*)( )*wrote:$', '\\\\1\\\\3 wrote:', msg_text, flags=re.MULTILINE)\n",
        "        elif 'text/html' in content_type and 'base64' not in encoding:\n",
        "            msg_text = get_html_text(msg.get_payload())\n",
        "        elif content_type == 'NA':\n",
        "            msg_text = get_html_text(msg)\n",
        "        else:\n",
        "            msg_text = None\n",
        "        return (content_type, encoding, msg_text)\n",
        "\n",
        "    def get_previous_email(self):\n",
        "\n",
        "        rollback = self._rollback_email_chain()\n",
        "\n",
        "        previous_email = EmailReplyParser.parse_reply(rollback)\n",
        "\n",
        "        cleaned_previous_email, signature = remove_email_signature(previous_email)\n",
        "\n",
        "        return cleaned_previous_email\n",
        "\n",
        "    def _rollback_email_chain(self):\n",
        "        # Remove the extracted first message from the full email chain\n",
        "        rollback = self.email_plain_text.replace(self.email_reply, \"\", 1).strip()\n",
        "\n",
        "        # Remove the quote header (On DATE, PERSON wrote:)\n",
        "        rollback = re.sub('^On.*wrote:$', '', rollback, flags=re.MULTILINE)\n",
        "\n",
        "        # Remove leading \">\" symbols from each line\n",
        "        rollback = re.sub(r\"^>( )*\", \"\", rollback, flags=re.MULTILINE)\n",
        "\n",
        "        rollback = rollback.strip()\n",
        "\n",
        "        return rollback"
      ],
      "metadata": {
        "id": "t6xY5efObeEU"
      },
      "execution_count": 7,
      "outputs": []
    },
    {
      "cell_type": "code",
      "source": [
        "%%capture\n",
        "# again, capturing the output for privacy. remove to view your data.\n",
        "import itertools\n",
        "\n",
        "for key, email_obj in itertools.islice(mbox_obj.iteritems(), 300, 301):\n",
        "    print(f\"Parsing email {key+1} of {num_entries}\")\n",
        "\n",
        "    email_data = GmailMboxMessage(email_obj)\n",
        "\n",
        "    try:\n",
        "        email_data.parse_email()\n",
        "    except IndexError:\n",
        "        print('Skipping - email had no body, such as an unsubscribe.')\n",
        "        continue\n",
        "    except AuthorError:\n",
        "        print('Skipping - not sent by me.')\n",
        "        continue\n",
        "    except IsNotReply:\n",
        "        print('Skipping - sent by me but not a response.')\n",
        "        continue\n",
        "    except IsEmptyForward:\n",
        "        print('Skipping - I forwarded with no extra text.')\n",
        "        continue\n",
        "\n",
        "    print('\\n\\n### CASE', key)\n",
        "    print('--- FROM:', email_data.email_from)\n",
        "    print('--- TO:', email_data.email_to)\n",
        "    print('--- DATE:', email_data.email_date)\n",
        "    print('--- LABELS:', email_data.email_labels)\n",
        "    print('--- SUBJECT:', email_data.email_subject)\n",
        "    print('--- TEXT:', email_data.email_plain_text)\n",
        "    print('--- REPLY:', email_data.email_reply)\n",
        "    print('--- PREVIOUS:', email_data.email_previous)"
      ],
      "metadata": {
        "id": "34wlvxRWn7e_"
      },
      "execution_count": 8,
      "outputs": []
    },
    {
      "cell_type": "markdown",
      "source": [
        "### Create the finetuning dataset\n",
        "\n",
        "At this point we're successfully creating structure out of our unstructured e-mails. Now we need to get these into the format we want for fine-tuning. We'll iterate through the generator, and for each message that isn't excluded, construct a dict record in the desired format.\n",
        "\n",
        "For an Alpaca instruction set, we want something like this:\n",
        "\n",
        "```json\n",
        "{\n",
        "  \"instruction\": \"Give three tips for staying healthy.\",\n",
        "  \"input\": \"\",\n",
        "  \"output\": \"1. Eat a balanced and nutritious diet: Make sure your meals are inclusive of a variety of fruits and vegetables, lean protein, whole grains, and healthy fats. This helps to provide your body with the essential nutrients to function at its best and can help prevent chronic diseases.\\n\\n2. Engage in regular physical activity: Exercise is crucial for maintaining strong bones, muscles, and cardiovascular health. Aim for at least 150 minutes of moderate aerobic exercise or 75 minutes of vigorous exercise each week.\\n\\n3. Get enough sleep: Getting enough quality sleep is crucial for physical and mental well-being. It helps to regulate mood, improve cognitive function, and supports healthy growth and immune function. Aim for 7-9 hours of sleep each night.\"\n",
        "}\n",
        "```\n",
        "\n",
        "For the [OpenAssistant](https://huggingface.co/datasets/OpenAssistant/oasst1/blob/main/README.md) format, and specifically for something like was done in the [Guanaco demo](https://huggingface.co/datasets/timdettmers/openassistant-guanaco), we want something like:\n",
        "\n",
        "```json\n",
        "{\n",
        "  \"text\": \"### Human: I want to start doing astrophotography as a hobby, any suggestions what could i do?### Assistant: Getting started in astrophotography can seem daunting, but with some patience and practice, you can become a master of the craft.\"\n",
        "}\n",
        "```\n",
        "\n",
        "It's not immediately clear which standard to take, and if using instructions, which instruction to supply. For the Alpaca format, it's clear that the input will be the \"previous\" email, the output will be my \"reply\", and we can provide some form of standard instruction for e-mail draft generation - perhaps even adding a constitutional element, taking a page from Constitional AI.\n",
        "\n",
        "For this demo, we'll construct the Guanaco style, in which we use Email and Response headers.\n",
        "\n",
        "**Note to self.** Develop a better understanding of which structure to use when, and implications of this choice."
      ],
      "metadata": {
        "id": "PNzKVm76o9iC"
      }
    },
    {
      "cell_type": "code",
      "source": [
        "from tqdm.notebook import tqdm\n",
        "\n",
        "dataset = []\n",
        "\n",
        "t = tqdm(itertools.islice(mbox_obj.iteritems(), 0, num_entries), total=num_entries)\n",
        "\n",
        "for key, email_obj in t:\n",
        "\n",
        "    email_data = GmailMboxMessage(email_obj)\n",
        "\n",
        "    try:\n",
        "        email_data.parse_email()\n",
        "    except IndexError:\n",
        "        # print('Skipping - email had no body, such as an unsubscribe.')\n",
        "        continue\n",
        "    except AuthorError:\n",
        "        # print('Skipping - not sent by me.')\n",
        "        continue\n",
        "    except IsNotReply:\n",
        "        # print('Skipping - sent by me but not a response.')\n",
        "        continue\n",
        "    except IsEmptyForward:\n",
        "        # print('Skipping - I forwarded with no extra text.')\n",
        "        continue\n",
        "\n",
        "    if email_data.email_previous != '' and email_data.email_reply != '':\n",
        "        sample = {\n",
        "            \"from\": email_data.email_to if email_data.email_to is not None else '',\n",
        "            \"message\": email_data.email_previous,\n",
        "            \"response\": email_data.email_reply\n",
        "        }\n",
        "\n",
        "        dataset.append(sample)\n",
        "\n",
        "print(f\"Final dataset size: {len(dataset)}\")"
      ],
      "metadata": {
        "id": "wxdsvelSoNJu",
        "colab": {
          "base_uri": "https://localhost:8080/",
          "height": 156,
          "referenced_widgets": [
            "eddd97201a8d48a29dd8d053114d97f9",
            "0a0cd25397004f1aacafb719c632ba0f",
            "10693ce578574316b784f932776897ca",
            "fdb982cfdadb43978dec832e18e71849",
            "40b3b8b33ab848de8af63723658bd017",
            "59561029b2db4e1080c1ec4fae80ae01",
            "70ab57981d134505a92739830d79c4bc",
            "2e5792c40f404780ba727a6966c2cf99",
            "b670f1ab480e469f9b77328fc116b51a",
            "e7924a42e2054938993222a8f260f302",
            "1452496cdb7942b08b6ed617c029ad02"
          ]
        },
        "outputId": "fcd46444-846b-4bfa-91b1-620321f6f33a"
      },
      "execution_count": 9,
      "outputs": [
        {
          "data": {
            "application/vnd.jupyter.widget-view+json": {
              "model_id": "eddd97201a8d48a29dd8d053114d97f9",
              "version_major": 2,
              "version_minor": 0
            },
            "text/plain": [
              "  0%|          | 0/24987 [00:00<?, ?it/s]"
            ]
          },
          "metadata": {},
          "output_type": "display_data"
        },
        {
          "metadata": {
            "tags": null
          },
          "name": "stderr",
          "output_type": "stream",
          "text": [
            "<ipython-input-7-7c053f05cd5b>:26: MarkupResemblesLocatorWarning: The input looks more like a filename than markup. You may want to open this file and pass the filehandle into Beautiful Soup.\n",
            "  return bs4.BeautifulSoup(html, 'html.parser').body.get_text(' ', strip=True)\n",
            "<ipython-input-7-7c053f05cd5b>:26: MarkupResemblesLocatorWarning: The input looks more like a URL than markup. You may want to use an HTTP client like requests to get the document behind the URL, and feed that document to Beautiful Soup.\n",
            "  return bs4.BeautifulSoup(html, 'html.parser').body.get_text(' ', strip=True)\n"
          ]
        },
        {
          "output_type": "stream",
          "name": "stdout",
          "text": [
            "Final dataset size: 5979\n"
          ]
        }
      ]
    },
    {
      "cell_type": "markdown",
      "source": [
        "Finally, we'll save this dataset as a json back to our filepath (Drive or local)."
      ],
      "metadata": {
        "id": "0ETSk7BbJ0Zw"
      }
    },
    {
      "cell_type": "code",
      "source": [
        "import json\n",
        "\n",
        "with open(path/'gmail-finetune-dataset.json', 'w') as fh:\n",
        "    json.dump(dataset, fh)"
      ],
      "metadata": {
        "id": "qdPJtBbJJvMi"
      },
      "execution_count": 10,
      "outputs": []
    }
  ]
}